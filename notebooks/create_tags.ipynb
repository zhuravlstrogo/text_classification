{
 "cells": [
  {
   "cell_type": "code",
   "execution_count": 27,
   "id": "396b6764-97c5-4b37-849e-a57d87f40a89",
   "metadata": {},
   "outputs": [],
   "source": [
    "import pandas as pd\n",
    "import numpy as np\n",
    "import re\n",
    "\n",
    "from gensim import corpora\n",
    "from gensim.models import LdaModel\n",
    "from gensim.utils import simple_preprocess\n",
    "from gensim.parsing.preprocessing import STOPWORDS"
   ]
  },
  {
   "cell_type": "code",
   "execution_count": 93,
   "id": "3fc7dd1d-a23a-4369-a625-4e25377aa67f",
   "metadata": {},
   "outputs": [],
   "source": [
    "def join_words(text):\n",
    "    interm =  ','.join(text)\n",
    "    return interm.replace(\",\", \" \")\n",
    "\n",
    "def flatten(xss):\n",
    "    return [x for xs in xss for x in xs]\n",
    "\n",
    "def extract_topics(lda_model):\n",
    "    a = [topic for idx, topic in lda_model.print_topics(-1)]\n",
    "    r = flatten([i.split('+') for i in a])\n",
    "\n",
    "    return [re.findall('\"([^\"]*)\"', i)[0] for i in r]"
   ]
  },
  {
   "cell_type": "code",
   "execution_count": 9,
   "id": "b2592788-9984-4dcf-94c5-5cb32a587a10",
   "metadata": {},
   "outputs": [],
   "source": [
    "reviews = pd.read_excel('../alfa_bank_reviews_all.xlsx')"
   ]
  },
  {
   "cell_type": "code",
   "execution_count": 13,
   "id": "238306f8-2c64-4187-8414-fdaa85b353b6",
   "metadata": {},
   "outputs": [
    {
     "data": {
      "text/plain": [
       "array(['Кошмар, нужно было оплатить в обход ареста кредит, на что мне начали зачем то рассказывать что нужно вам карту нашего банка, рассксзывала дама в черном пиджаке без бейджика, кто мог решить вопрос был занят, прождав 20 минут результата я не получил ушел, в отделении работают 3 человека',\n",
       "       'Решила покопить, пока работа у меня стабильная есть)))открыла в этом банке совсем недавно Альфа - счёт. Ставку одобрили под 7 процентов, и срок у него бессрочный. Хочешь докладывай, хочешь снимай, от этого сильно процент не пострадает.',\n",
       "       'мало людей, соответственно быстрое обслуживание.',\n",
       "       '3 менеджера на огромный поток клиентов, ожидание по 2 часа, чтобы выполнить процедуру получения карты за 2-3 минуты, это просто издевательство. Спасибо за убитое время!',\n",
       "       'Хорошее комфортное место, был приятный менеджер (Александр если не ошибаюсь). Все подробно и грамотно рассказал. Но единственное, девушка на входе не совсем понятно объясняет что и как нужно делать. Поэтому 4 звезды',\n",
       "       'Отделение Альфа банка меня приятно удивило удобным расположением и наличием множества банкоматов. Сотрудники всегда готовы помочь и разъяснить любые детали, если возникнут вопросы. Я буду с удовольствием рекомендовать это отделение своим друзьям и знакомым.',\n",
       "       'Уютная обстановка.Нет толкотни, сотрудники подходят ,предлогают свою помощь, все объясняют и помогают. Высокое качество обслуживания и все быстро.Спасибо Вам, я очень довольна, не в одном банке такого хорошего отношения не видела.'],\n",
       "      dtype=object)"
      ]
     },
     "execution_count": 13,
     "metadata": {},
     "output_type": "execute_result"
    }
   ],
   "source": [
    "reviews['text'].sample(7).values"
   ]
  },
  {
   "cell_type": "code",
   "execution_count": null,
   "id": "b2f8fea5-09db-4eee-b0a5-fe69e4fb3d59",
   "metadata": {},
   "outputs": [],
   "source": [
    "# TODO: 'кредит_наличными' - > кредит "
   ]
  },
  {
   "cell_type": "code",
   "execution_count": null,
   "id": "a97205ea-9eda-4d0f-b136-08cb512f3a8b",
   "metadata": {},
   "outputs": [],
   "source": [
    "# tags \n",
    "# 'банкоматы' 'без_тематики' 'график_работы' 'ипотека' 'карта'\n",
    "#  'кассовое_обслуживание' 'комфорт' 'контактный_центр' 'кредит_наличными'\n",
    "#  'мобайл/онлайн' 'мошенничество' 'навязывание_продуктов' 'очередь'\n",
    "#  'парковка' 'скорость_работы' 'сотрудники' 'счет'"
   ]
  },
  {
   "cell_type": "code",
   "execution_count": 121,
   "id": "071e148f-b92f-4274-8723-8d944292c3e7",
   "metadata": {},
   "outputs": [],
   "source": [
    "def create_tags(review):\n",
    "    if type(review) == str:\n",
    "        if 'очеред' in review or 'долго' in review  or 'медлен' in review or 'ожидан' in review or 'минут' in review \\\n",
    "         or 'народу' in review:\n",
    "            return 'очередь'\n",
    "        elif 'сотрудн' in review or 'грамотн' in review or  'вежлив' in review or 'персонал' in review \\\n",
    "        or 'коллектив' in review or 'менеджер' in review or 'обслужив' in review \\\n",
    "        or 'работник' in review or 'специалист' in review or 'девочк' in review or 'оперативно' in review or 'помогли' in review:\n",
    "            return 'сотрудники'\n",
    "        elif 'банкомат' in review:\n",
    "            return 'банкоматы'\n",
    "        elif 'график' in review:\n",
    "            return 'график_работы'\n",
    "        elif 'кредит' in review:\n",
    "            return 'кредит'\n",
    "        elif 'ипотек' in review:\n",
    "            return 'ипотека'\n",
    "        elif 'карт' in review:\n",
    "            return 'карта'\n",
    "        elif 'касс' in review or 'валют' in review :\n",
    "            return 'кассовое_обслуживание'\n",
    "        elif 'комф' in review or 'удобн' in review :\n",
    "            return 'комфорт'\n",
    "        elif 'мошенн' in review or 'обман' in review :\n",
    "            return 'мошенничество'\n",
    "        elif 'быстр' in review or 'скорость' in review :\n",
    "            return 'скорость_работы'\n",
    "        elif 'счет' in review or 'счёт' in review:\n",
    "            return 'счет'\n",
    "        elif 'навяз' in review or 'впарил' in review:\n",
    "            return 'навязывание_продуктов'\n",
    "        \n",
    "        elif 'парков' in review:\n",
    "            return 'парковка'\n",
    "        else:\n",
    "            return None\n",
    "    else:\n",
    "            return None\n",
    "\n",
    "# TODO: синонимы и опечатки"
   ]
  },
  {
   "cell_type": "code",
   "execution_count": 122,
   "id": "62e99f1a-d51a-4e4b-9186-f8b6a54ba748",
   "metadata": {},
   "outputs": [],
   "source": [
    "reviews['text'] = reviews['text'].str.lower()\n",
    "reviews['text']  = reviews['text'] .apply(simple_preprocess) \n",
    "reviews['text']  = reviews['text'] .apply(join_words) \n",
    "\n",
    "reviews['re_tag'] = reviews['text'].apply(create_tags)"
   ]
  },
  {
   "cell_type": "code",
   "execution_count": 123,
   "id": "dd2c022a-477f-426d-b4b3-d36fc43e8627",
   "metadata": {},
   "outputs": [
    {
     "data": {
      "text/plain": [
       "0.8268594340022911"
      ]
     },
     "execution_count": 123,
     "metadata": {},
     "output_type": "execute_result"
    }
   ],
   "source": [
    "len(reviews[reviews['re_tag'].notnull()]) / len(reviews)"
   ]
  },
  {
   "cell_type": "code",
   "execution_count": 133,
   "id": "c23ddfa6-2487-4d94-aa3e-259007e6afc6",
   "metadata": {},
   "outputs": [
    {
     "data": {
      "text/html": [
       "<div>\n",
       "<style scoped>\n",
       "    .dataframe tbody tr th:only-of-type {\n",
       "        vertical-align: middle;\n",
       "    }\n",
       "\n",
       "    .dataframe tbody tr th {\n",
       "        vertical-align: top;\n",
       "    }\n",
       "\n",
       "    .dataframe thead th {\n",
       "        text-align: right;\n",
       "    }\n",
       "</style>\n",
       "<table border=\"1\" class=\"dataframe\">\n",
       "  <thead>\n",
       "    <tr style=\"text-align: right;\">\n",
       "      <th></th>\n",
       "      <th>text</th>\n",
       "      <th>re_tag</th>\n",
       "    </tr>\n",
       "  </thead>\n",
       "  <tbody>\n",
       "    <tr>\n",
       "      <th>31495</th>\n",
       "      <td>только положительные эмоции после посещения этого отделения заезжала забрать свою карту сотрудник вежливый все быстро оформил помог так же подсказал про бонусы от банка спасибо</td>\n",
       "      <td>карта</td>\n",
       "    </tr>\n",
       "    <tr>\n",
       "      <th>70341</th>\n",
       "      <td>оформила кредитную карту он лайн срок ожидание был дня пришла смс готовности что могу получить карту доставка была это отделение сожалению это отделение банка просто своим отношением отбило все желание стать клиентом первый день сказали ожидание минимум минут ждать не стала пришла на следующий день ожидание минут дождалась своей очереди надежде забрать свою карту несколько раз сказала менеджеру который ко мне подошёл что заказывала именную карту переспросила почему не могу получить свою если пришла смс готовности молчание невнятный ответ из серии не знаю как сотрудник банка может не знать ответа на такой элементарный вопрос итог карту мне не отдали причину не объяснили зато менеджер очень быстренько решил оформить карту заново не сказав мне об этом часа потраченного времени пустую не советую это отделение банка звезда за приветливую девушку на входе за оператор по телефону</td>\n",
       "      <td>очередь</td>\n",
       "    </tr>\n",
       "    <tr>\n",
       "      <th>83625</th>\n",
       "      <td>отделение рядом метро очередь идёт достаточно быстро вежливые компетентные сотрудники</td>\n",
       "      <td>очередь</td>\n",
       "    </tr>\n",
       "    <tr>\n",
       "      <th>905</th>\n",
       "      <td>хороший банк обслуживание мне понравилось</td>\n",
       "      <td>сотрудники</td>\n",
       "    </tr>\n",
       "    <tr>\n",
       "      <th>9334</th>\n",
       "      <td>удобно быстро вежливо</td>\n",
       "      <td>комфорт</td>\n",
       "    </tr>\n",
       "    <tr>\n",
       "      <th>1147</th>\n",
       "      <td>потеряла банковскую карту неподалеку от этого отделения сотрудники оперативно заблокировали карту дали советы оформили новую проявив заботу внимание</td>\n",
       "      <td>карта</td>\n",
       "    </tr>\n",
       "    <tr>\n",
       "      <th>1555</th>\n",
       "      <td>навязывают не нужные опции если открываете счёт сразу узнавайте всё снять деньги карты причём банкомате процентом считаю что не удобный банк</td>\n",
       "      <td>банкоматы</td>\n",
       "    </tr>\n",
       "  </tbody>\n",
       "</table>\n",
       "</div>"
      ],
      "text/plain": [
       "                                                                                                                                                                                                                                                                                                                                                                                                                                                                                                                                                                                                                                                                                                                                                                                                                                                                                                                        text  \\\n",
       "31495                                                                                                                                                                                                                                                                                                                                                                                                                                                                                                                                                                                                                                                                                                                                       только положительные эмоции после посещения этого отделения заезжала забрать свою карту сотрудник вежливый все быстро оформил помог так же подсказал про бонусы от банка спасибо   \n",
       "70341  оформила кредитную карту он лайн срок ожидание был дня пришла смс готовности что могу получить карту доставка была это отделение сожалению это отделение банка просто своим отношением отбило все желание стать клиентом первый день сказали ожидание минимум минут ждать не стала пришла на следующий день ожидание минут дождалась своей очереди надежде забрать свою карту несколько раз сказала менеджеру который ко мне подошёл что заказывала именную карту переспросила почему не могу получить свою если пришла смс готовности молчание невнятный ответ из серии не знаю как сотрудник банка может не знать ответа на такой элементарный вопрос итог карту мне не отдали причину не объяснили зато менеджер очень быстренько решил оформить карту заново не сказав мне об этом часа потраченного времени пустую не советую это отделение банка звезда за приветливую девушку на входе за оператор по телефону   \n",
       "83625                                                                                                                                                                                                                                                                                                                                                                                                                                                                                                                                                                                                                                                                                                                                                                                                                                  отделение рядом метро очередь идёт достаточно быстро вежливые компетентные сотрудники   \n",
       "905                                                                                                                                                                                                                                                                                                                                                                                                                                                                                                                                                                                                                                                                                                                                                                                                                                                                                хороший банк обслуживание мне понравилось   \n",
       "9334                                                                                                                                                                                                                                                                                                                                                                                                                                                                                                                                                                                                                                                                                                                                                                                                                                                                                                   удобно быстро вежливо   \n",
       "1147                                                                                                                                                                                                                                                                                                                                                                                                                                                                                                                                                                                                                                                                                                                                                                    потеряла банковскую карту неподалеку от этого отделения сотрудники оперативно заблокировали карту дали советы оформили новую проявив заботу внимание   \n",
       "1555                                                                                                                                                                                                                                                                                                                                                                                                                                                                                                                                                                                                                                                                                                                                                                            навязывают не нужные опции если открываете счёт сразу узнавайте всё снять деньги карты причём банкомате процентом считаю что не удобный банк   \n",
       "\n",
       "           re_tag  \n",
       "31495       карта  \n",
       "70341     очередь  \n",
       "83625     очередь  \n",
       "905    сотрудники  \n",
       "9334      комфорт  \n",
       "1147        карта  \n",
       "1555    банкоматы  "
      ]
     },
     "execution_count": 133,
     "metadata": {},
     "output_type": "execute_result"
    }
   ],
   "source": [
    "pd.set_option('display.max_colwidth', None)\n",
    "reviews[reviews['re_tag'].notnull()][['text', 're_tag']].sample(7)"
   ]
  },
  {
   "cell_type": "code",
   "execution_count": 125,
   "id": "3df1029e-7d69-403c-a9a8-50c59c0e8243",
   "metadata": {},
   "outputs": [
    {
     "data": {
      "text/html": [
       "<div>\n",
       "<style scoped>\n",
       "    .dataframe tbody tr th:only-of-type {\n",
       "        vertical-align: middle;\n",
       "    }\n",
       "\n",
       "    .dataframe tbody tr th {\n",
       "        vertical-align: top;\n",
       "    }\n",
       "\n",
       "    .dataframe thead th {\n",
       "        text-align: right;\n",
       "    }\n",
       "</style>\n",
       "<table border=\"1\" class=\"dataframe\">\n",
       "  <thead>\n",
       "    <tr style=\"text-align: right;\">\n",
       "      <th></th>\n",
       "      <th>text</th>\n",
       "    </tr>\n",
       "  </thead>\n",
       "  <tbody>\n",
       "    <tr>\n",
       "      <th>56553</th>\n",
       "      <td>хорошее отделение давно там не было но только положительные моменты сохранились работе этого отделения</td>\n",
       "    </tr>\n",
       "    <tr>\n",
       "      <th>29609</th>\n",
       "      <td>на высоте офис небольшой</td>\n",
       "    </tr>\n",
       "    <tr>\n",
       "      <th>58874</th>\n",
       "      <td>хорошее расположение</td>\n",
       "    </tr>\n",
       "    <tr>\n",
       "      <th>74103</th>\n",
       "      <td>лучший клиентский опыт каждый раз получаю данном отделении банка рад приходить сюда снова снова рекомендую альфа банк как лучший банк для физ лиц</td>\n",
       "    </tr>\n",
       "    <tr>\n",
       "      <th>55439</th>\n",
       "      <td>хороший банк</td>\n",
       "    </tr>\n",
       "    <tr>\n",
       "      <th>8875</th>\n",
       "      <td>надежный банк где не возникало проблем вкладами процентами момента его образования</td>\n",
       "    </tr>\n",
       "    <tr>\n",
       "      <th>84816</th>\n",
       "      <td>приезжал несколько раз привозил платёжки от своего ооо так ни разу их не провели не было человека который занимался бы юрлицами больше алексин ни ногой</td>\n",
       "    </tr>\n",
       "  </tbody>\n",
       "</table>\n",
       "</div>"
      ],
      "text/plain": [
       "                                                                                                                                                          text\n",
       "56553                                                   хорошее отделение давно там не было но только положительные моменты сохранились работе этого отделения\n",
       "29609                                                                                                                                 на высоте офис небольшой\n",
       "58874                                                                                                                                     хорошее расположение\n",
       "74103        лучший клиентский опыт каждый раз получаю данном отделении банка рад приходить сюда снова снова рекомендую альфа банк как лучший банк для физ лиц\n",
       "55439                                                                                                                                             хороший банк\n",
       "8875                                                                        надежный банк где не возникало проблем вкладами процентами момента его образования\n",
       "84816  приезжал несколько раз привозил платёжки от своего ооо так ни разу их не провели не было человека который занимался бы юрлицами больше алексин ни ногой"
      ]
     },
     "execution_count": 125,
     "metadata": {},
     "output_type": "execute_result"
    }
   ],
   "source": [
    "reviews[reviews['re_tag'].isnull()][['text']].sample(7)"
   ]
  },
  {
   "cell_type": "code",
   "execution_count": 126,
   "id": "fcf106e1-f9f2-42b2-9d2c-a9f2cd3aedf3",
   "metadata": {},
   "outputs": [],
   "source": [
    "# TODO: сравнить длину отзывов яндекса и геосервисов"
   ]
  },
  {
   "cell_type": "markdown",
   "id": "b50029f8-56d7-4e67-b8e0-6c78af3b883c",
   "metadata": {},
   "source": [
    "#### тематическое моделирование"
   ]
  },
  {
   "cell_type": "code",
   "execution_count": 127,
   "id": "03fef606-cd22-49d6-a7f2-aee3726647e1",
   "metadata": {},
   "outputs": [
    {
     "data": {
      "text/plain": [
       "'оставляю положительный отзыв банке после нескольких обращений вопросами на которые всегда адекватно полноценно отвечали'"
      ]
     },
     "execution_count": 127,
     "metadata": {},
     "output_type": "execute_result"
    }
   ],
   "source": [
    "documents = reviews[reviews['re_tag'].isnull()]['text'].to_list()\n",
    "documents[1]"
   ]
  },
  {
   "cell_type": "code",
   "execution_count": 128,
   "id": "378b35f0-6f2a-4a8d-a9ab-831142bdffd1",
   "metadata": {},
   "outputs": [],
   "source": [
    "# TODO: список стоп слов \n",
    "with open('../stop-words-ru.txt') as f:\n",
    "    russian_stopwords = [x.strip('\\n') for x in f]"
   ]
  },
  {
   "cell_type": "code",
   "execution_count": 129,
   "id": "c94a8faf-f2fd-48cb-8404-b661d111c9bc",
   "metadata": {},
   "outputs": [],
   "source": [
    "# отделение офис уютно в комфорт?\n",
    "# классы пенсия приложение вклад \n",
    "\n"
   ]
  },
  {
   "cell_type": "code",
   "execution_count": 130,
   "id": "e1b72010-cc14-458a-9661-eac45a251639",
   "metadata": {},
   "outputs": [],
   "source": [
    "russian_stopwords.extend([ 'банк', 'банка', 'альфа', 'втб', 'сбер', 'зеленый', 'отлично', 'супер', 'хорошее', 'молодец', 'работает', \n",
    "                          'пользуюсь', 'рекомендую', '',\n",
    "                         'вопрос', 'понравилось', 'отношение', 'высшем', 'работают', 'хочу', 'итоге', 'дозвониться', 'пришлось',\n",
    "                         'ужасный', 'нравится' , 'приятно', 'отличный'])"
   ]
  },
  {
   "cell_type": "code",
   "execution_count": null,
   "id": "9fe6cf71-ffc0-4b06-92a6-5d9a07e8838a",
   "metadata": {},
   "outputs": [],
   "source": []
  },
  {
   "cell_type": "code",
   "execution_count": 131,
   "id": "a14786db-fdb3-4ee2-8671-ce38c676ef1c",
   "metadata": {},
   "outputs": [
    {
     "name": "stdout",
     "output_type": "stream",
     "text": [
      "CPU times: user 19.8 s, sys: 38.1 ms, total: 19.8 s\n",
      "Wall time: 19.9 s\n"
     ]
    },
    {
     "data": {
      "text/plain": [
       "['отделение',\n",
       " 'лучший',\n",
       " 'условия',\n",
       " 'сервис',\n",
       " 'норм',\n",
       " 'клиентов',\n",
       " 'отличное',\n",
       " 'плохо',\n",
       " 'выгодные',\n",
       " 'банком',\n",
       " 'офис',\n",
       " 'современный',\n",
       " 'большое',\n",
       " 'нормальный',\n",
       " 'клиент',\n",
       " 'отделении',\n",
       " 'обычный',\n",
       " 'девушки',\n",
       " 'уютно',\n",
       " 'устраивает',\n",
       " 'советую',\n",
       " 'клиентам',\n",
       " 'вклад',\n",
       " 'клиентом',\n",
       " 'банке',\n",
       " 'уровне',\n",
       " 'банков',\n",
       " 'условия',\n",
       " 'лучших',\n",
       " 'своим',\n",
       " 'молодцы',\n",
       " 'работы',\n",
       " 'атмосфера',\n",
       " 'формат',\n",
       " 'клиентами',\n",
       " 'ребята',\n",
       " 'клиенту',\n",
       " 'понятно',\n",
       " 'банки',\n",
       " 'хорошая',\n",
       " 'невозможно',\n",
       " 'банком',\n",
       " 'нормально',\n",
       " 'ок',\n",
       " 'вопросы',\n",
       " 'банке',\n",
       " 'высоте',\n",
       " 'проблем',\n",
       " 'работы',\n",
       " 'приложение']"
      ]
     },
     "execution_count": 131,
     "metadata": {},
     "output_type": "execute_result"
    }
   ],
   "source": [
    "%%time\n",
    "# stop_words = set(STOPWORDS)\n",
    "texts = [[word for word in simple_preprocess(doc) if word not in russian_stopwords] for doc in documents]\n",
    "dictionary = corpora.Dictionary(texts)\n",
    "corpus = [dictionary.doc2bow(text) for text in texts]\n",
    "\n",
    "# Обучение модели LDA\n",
    "num_topics = 5\n",
    "lda_model = LdaModel(corpus, num_topics=num_topics, id2word=dictionary, passes=15)\n",
    "\n",
    "# Вывод тем и связанных с ними слов\n",
    "# for idx, topic in lda_model.print_topics(-1):\n",
    "#     print(f\"Тема {idx + 1}: {topic}\")\n",
    "\n",
    "topics = extract_topics(lda_model)\n",
    "topics"
   ]
  },
  {
   "cell_type": "code",
   "execution_count": 132,
   "id": "0b1e2ae1-2ccd-49a5-99b3-3f1438b86be2",
   "metadata": {},
   "outputs": [],
   "source": [
    "# with open('../stop-words-ru.txt', 'w') as f:\n",
    "#     for line in russian_stopwords:\n",
    "#         f.write(f\"{line}\\n\")"
   ]
  },
  {
   "cell_type": "code",
   "execution_count": null,
   "id": "747e091f-da81-43e8-bc75-490facba5534",
   "metadata": {},
   "outputs": [],
   "source": []
  },
  {
   "cell_type": "code",
   "execution_count": null,
   "id": "56d4f724-b41d-4da9-8d22-33cd6baa5aee",
   "metadata": {},
   "outputs": [],
   "source": []
  }
 ],
 "metadata": {
  "kernelspec": {
   "display_name": "Python 3 (ipykernel)",
   "language": "python",
   "name": "python3"
  },
  "language_info": {
   "codemirror_mode": {
    "name": "ipython",
    "version": 3
   },
   "file_extension": ".py",
   "mimetype": "text/x-python",
   "name": "python",
   "nbconvert_exporter": "python",
   "pygments_lexer": "ipython3",
   "version": "3.8.19"
  }
 },
 "nbformat": 4,
 "nbformat_minor": 5
}
