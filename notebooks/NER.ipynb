{
 "cells": [
  {
   "cell_type": "code",
   "execution_count": 1,
   "id": "77386829-ca58-439c-b097-bb8d05ac8101",
   "metadata": {},
   "outputs": [],
   "source": [
    "import pandas as pd\n",
    "import numpy as np"
   ]
  },
  {
   "cell_type": "code",
   "execution_count": 53,
   "id": "96e3b3a4-c758-4d11-8ec2-42a585a5c339",
   "metadata": {},
   "outputs": [],
   "source": [
    "from natasha import Segmenter, MorphVocab, NewsEmbedding, NewsMorphTagger, NewsSyntaxParser, NewsNERTagger,NamesExtractor, Doc"
   ]
  },
  {
   "cell_type": "code",
   "execution_count": 54,
   "id": "6f2afdd5-cb53-4dfd-b048-29b83d4b3ee6",
   "metadata": {},
   "outputs": [],
   "source": [
    "# !pip install natasha -q"
   ]
  },
  {
   "cell_type": "code",
   "execution_count": 55,
   "id": "a9806b73-e2f2-436c-a224-fff8c260d812",
   "metadata": {},
   "outputs": [],
   "source": [
    "news = '9.12.2021 «Спартак» на выезде сыграл с польской «Легией» в матче заключительного тура группового этапа Лиги Европы.' \\\n",
    "'Красно-белые победили со счетом 1:0 благодаря голу Бакаева. Ранее в Москве спартаковцы уступили со счетом 0:1.' \\\n",
    "'На 98-й минуте матча в ворота спартаковцев был назначен пенальти. Вратарь красно-белых Селихов отразил 11-метровый.' \\\n",
    "'Эта победа гарантировала «Спартаку» попадание в плей-офф Лиги Европы.' "
   ]
  },
  {
   "cell_type": "code",
   "execution_count": 57,
   "id": "f73dd43e-9e90-4433-a7ce-94303031d4f5",
   "metadata": {},
   "outputs": [
    {
     "ename": "NameError",
     "evalue": "name 'footballNews' is not defined",
     "output_type": "error",
     "traceback": [
      "\u001b[0;31m---------------------------------------------------------------------------\u001b[0m",
      "\u001b[0;31mNameError\u001b[0m                                 Traceback (most recent call last)",
      "Cell \u001b[0;32mIn[57], line 2\u001b[0m\n\u001b[1;32m      1\u001b[0m segmenter \u001b[38;5;241m=\u001b[39m Segmenter()\n\u001b[0;32m----> 2\u001b[0m \u001b[43mfootballNews\u001b[49m\u001b[38;5;241m.\u001b[39msegment(segmenter)\n",
      "\u001b[0;31mNameError\u001b[0m: name 'footballNews' is not defined"
     ]
    }
   ],
   "source": [
    "segmenter = Segmenter()\n",
    "footballNews.segment(segmenter)"
   ]
  },
  {
   "cell_type": "code",
   "execution_count": null,
   "id": "87fd5388-2829-417d-a197-4864dddff1f5",
   "metadata": {},
   "outputs": [],
   "source": [
    "for i in range(5): print(footballNews.tokens[i])\n",
    "for i in range(5): print(footballNews.tokens[-5+i])"
   ]
  },
  {
   "cell_type": "code",
   "execution_count": null,
   "id": "eebcf723-dbd2-46fd-b8de-8b5d25b6ec48",
   "metadata": {},
   "outputs": [],
   "source": []
  }
 ],
 "metadata": {
  "kernelspec": {
   "display_name": "Python 3 (ipykernel)",
   "language": "python",
   "name": "python3"
  },
  "language_info": {
   "codemirror_mode": {
    "name": "ipython",
    "version": 3
   },
   "file_extension": ".py",
   "mimetype": "text/x-python",
   "name": "python",
   "nbconvert_exporter": "python",
   "pygments_lexer": "ipython3",
   "version": "3.8.19"
  }
 },
 "nbformat": 4,
 "nbformat_minor": 5
}
